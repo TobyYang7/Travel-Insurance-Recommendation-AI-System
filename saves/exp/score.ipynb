{
 "cells": [
  {
   "cell_type": "code",
   "execution_count": 1,
   "metadata": {
    "metadata": {}
   },
   "outputs": [],
   "source": [
    "import json\n",
    "from sklearn.metrics import accuracy_score, f1_score\n",
    "import re\n",
    "\n",
    "\n",
    "def match_choice(text):\n",
    "    match = re.findall(r'.*?([A-D]+(?:[、, ]+[A-D]+)*)', text)\n",
    "    if match:\n",
    "        last_match = match[-1]\n",
    "        return ''.join(re.split(r'[、, ]+', last_match))\n",
    "    return ''\n",
    "\n",
    "\n",
    "def accuracy(path):\n",
    "    y_true = []\n",
    "    y_pred = []\n",
    "    with open(path, 'r') as file:\n",
    "        for line in file:\n",
    "            data = json.loads(line)\n",
    "            y_true.append(match_choice(data['label']))\n",
    "            y_pred.append(match_choice(data['predict']))\n",
    "    return accuracy_score(y_true, y_pred)\n",
    "\n",
    "\n",
    "def score(path):\n",
    "    y_true = []\n",
    "    y_pred = []\n",
    "    with open(path, 'r') as file:\n",
    "        for line in file:\n",
    "            data = json.loads(line)\n",
    "            y_true.append(match_choice(data['label']))\n",
    "            y_pred.append(match_choice(data['predict']))\n",
    "    return f1_score(y_true, y_pred, average='macro')\n",
    "\n",
    "\n",
    "def out(model_name, dataset):\n",
    "    path = f'{model_name}/{dataset}/generated_predictions.jsonl'\n",
    "    print(f'-----{model_name}: {dataset}')\n",
    "    print(f'acc: {round(accuracy(path), 2)}      f1: {round(score(path), 2)}')"
   ]
  },
  {
   "cell_type": "markdown",
   "metadata": {},
   "source": [
    "### igpt_v0: insuranceQA + sentiment + travel_insurance\n",
    "\n",
    "### igpt_v1: insuranceQA\n"
   ]
  },
  {
   "cell_type": "code",
   "execution_count": 2,
   "metadata": {},
   "outputs": [],
   "source": [
    "data = ['travel_insurance_test', 'travel_insurance_4_label_test', 'sentiment_test']\n",
    "model = ['igpt_v1_rlhf_travel_insurance', 'igpt_v1_rlhf', 'igpt_v3_correct_rlhf', 'igpt_v0', 'igpt_v1', 'igpt_v3_correct', 'igpt_v0_label', 'GPT-3.5', 'llama3']"
   ]
  },
  {
   "cell_type": "code",
   "execution_count": 3,
   "metadata": {},
   "outputs": [
    {
     "name": "stdout",
     "output_type": "stream",
     "text": [
      "-----igpt_v1_rlhf_travel_insurance: travel_insurance_test\n",
      "acc: 0.75      f1: 0.69\n",
      "-----igpt_v1_rlhf_travel_insurance: travel_insurance_4_label_test\n",
      "acc: 0.58      f1: 0.37\n",
      "-----igpt_v1_rlhf_travel_insurance: sentiment_test\n",
      "acc: 0.82      f1: 0.73\n",
      "\n",
      "-----igpt_v1_rlhf: travel_insurance_test\n",
      "acc: 0.35      f1: 0.26\n",
      "-----igpt_v1_rlhf: travel_insurance_4_label_test\n"
     ]
    },
    {
     "name": "stdout",
     "output_type": "stream",
     "text": [
      "acc: 0.66      f1: 0.31\n",
      "-----igpt_v1_rlhf: sentiment_test\n",
      "acc: 0.73      f1: 0.18\n",
      "\n",
      "-----igpt_v3_correct_rlhf: travel_insurance_test\n",
      "acc: 0.72      f1: 0.7\n",
      "-----igpt_v3_correct_rlhf: travel_insurance_4_label_test\n",
      "acc: 0.08      f1: 0.05\n",
      "-----igpt_v3_correct_rlhf: sentiment_test\n",
      "acc: 0.83      f1: 0.79\n",
      "\n",
      "-----igpt_v0: travel_insurance_test\n",
      "acc: 0.38      f1: 0.31\n",
      "-----igpt_v0: travel_insurance_4_label_test\n",
      "acc: 0.17      f1: 0.16\n",
      "-----igpt_v0: sentiment_test\n",
      "acc: 0.87      f1: 0.82\n",
      "\n",
      "-----igpt_v1: travel_insurance_test\n",
      "acc: 0.4      f1: 0.37\n",
      "-----igpt_v1: travel_insurance_4_label_test\n",
      "acc: 0.42      f1: 0.25\n",
      "-----igpt_v1: sentiment_test\n",
      "acc: 0.69      f1: 0.14\n",
      "\n",
      "-----igpt_v3_correct: travel_insurance_test\n",
      "acc: 0.81      f1: 0.76\n",
      "-----igpt_v3_correct: travel_insurance_4_label_test\n",
      "acc: 0.05      f1: 0.02\n",
      "-----igpt_v3_correct: sentiment_test\n",
      "acc: 0.86      f1: 0.81\n",
      "\n",
      "-----igpt_v0_label: travel_insurance_test\n",
      "acc: 0.35      f1: 0.26\n",
      "-----igpt_v0_label: travel_insurance_4_label_test\n",
      "acc: 0.75      f1: 0.37\n",
      "-----igpt_v0_label: sentiment_test\n",
      "acc: 0.26      f1: 0.23\n",
      "\n",
      "-----GPT-3.5: travel_insurance_test\n",
      "acc: 0.58      f1: 0.23\n",
      "-----GPT-3.5: travel_insurance_4_label_test\n",
      "acc: 0.4      f1: 0.18\n",
      "-----GPT-3.5: sentiment_test\n",
      "acc: 0.73      f1: 0.42\n",
      "\n",
      "-----llama3: travel_insurance_test\n",
      "acc: 0.61      f1: 0.2\n",
      "-----llama3: travel_insurance_4_label_test\n",
      "acc: 0.09      f1: 0.07\n",
      "-----llama3: sentiment_test\n",
      "acc: 0.67      f1: 0.53\n",
      "\n"
     ]
    }
   ],
   "source": [
    "for m in model:\n",
    "    for d in data:\n",
    "        out(m, d)\n",
    "    print()"
   ]
  },
  {
   "cell_type": "code",
   "execution_count": null,
   "metadata": {},
   "outputs": [],
   "source": []
  }
 ],
 "metadata": {
  "kernelspec": {
   "display_name": "torch_env",
   "language": "python",
   "name": "python3"
  },
  "language_info": {
   "codemirror_mode": {
    "name": "ipython",
    "version": 3
   },
   "file_extension": ".py",
   "mimetype": "text/x-python",
   "name": "python",
   "nbconvert_exporter": "python",
   "pygments_lexer": "ipython3",
   "version": "3.9.18"
  }
 },
 "nbformat": 4,
 "nbformat_minor": 2
}
