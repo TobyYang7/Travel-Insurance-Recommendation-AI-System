{
 "cells": [
  {
   "cell_type": "code",
   "execution_count": 1,
   "metadata": {
    "metadata": {}
   },
   "outputs": [],
   "source": [
    "import pandas as pd\n",
    "from util import OpenAIGPT\n",
    "import pandas as pd\n",
    "import json\n",
    "from concurrent.futures import ThreadPoolExecutor\n",
    "from tqdm import tqdm\n",
    "igpt = OpenAIGPT(keys_path=\"gpt3keys.txt\")"
   ]
  },
  {
   "cell_type": "code",
   "execution_count": 2,
   "metadata": {},
   "outputs": [
    {
     "data": {
      "text/plain": [
       "'Hi there! How can I assist you today?'"
      ]
     },
     "execution_count": 2,
     "metadata": {},
     "output_type": "execute_result"
    }
   ],
   "source": [
    "igpt('hello')"
   ]
  },
  {
   "cell_type": "code",
   "execution_count": 23,
   "metadata": {
    "metadata": {}
   },
   "outputs": [
    {
     "name": "stdout",
     "output_type": "stream",
     "text": [
      "Train set shape: (1589, 9)\n",
      "Test set shape: (398, 9)\n"
     ]
    }
   ],
   "source": [
    "from sklearn.model_selection import train_test_split\n",
    "data = pd.read_csv('../data/travel_insurance/travel_insurance.csv')\n",
    "train_data, test_data = train_test_split(data, test_size=0.2, random_state=42)\n",
    "\n",
    "print(\"Train set shape:\", train_data.shape)\n",
    "print(\"Test set shape:\", test_data.shape)"
   ]
  },
  {
   "cell_type": "markdown",
   "metadata": {},
   "source": [
    "### Process data with multi thread\n"
   ]
  },
  {
   "cell_type": "code",
   "execution_count": 24,
   "metadata": {
    "metadata": {}
   },
   "outputs": [],
   "source": [
    "def process_row(row):\n",
    "    try:\n",
    "        row_copy = row.drop(labels=['TravelInsurance'])\n",
    "        prompt = f'''\n",
    "        Write a brief sentence summarizing these details into a coherent profile description.\n",
    "        {row_copy}\n",
    "        '''\n",
    "        res = igpt(prompt)\n",
    "\n",
    "        label = 'A. negative' if row['TravelInsurance'] == 0 else 'B. positive'\n",
    "\n",
    "        return {\n",
    "            \"instruction\": \"Determine whether the person will buy Travel insurance, you will output: {A. positive / B. negative}\",\n",
    "            \"input\": res,\n",
    "            \"output\": label,\n",
    "            \"history\": []\n",
    "        }\n",
    "    except Exception as e:\n",
    "        print(f\"Error processing row: {e}\")\n",
    "        return None\n",
    "\n",
    "\n",
    "def generate_dataset(df, max_samples=1000):\n",
    "    global igpt\n",
    "    igpt = OpenAIGPT(model_name='gpt-3.5-turbo', keys_path='gpt3keys.txt')\n",
    "    df_subset = df.head(max_samples)\n",
    "    results = []\n",
    "    with ThreadPoolExecutor(max_workers=10) as executor:\n",
    "        futures = [executor.submit(process_row, row) for _, row in df_subset.iterrows()]\n",
    "        for future in tqdm(futures, total=len(futures), desc=\"Processing rows\"):\n",
    "            result = future.result()\n",
    "            if result:\n",
    "                results.append(result)\n",
    "\n",
    "    return results"
   ]
  },
  {
   "cell_type": "code",
   "execution_count": null,
   "metadata": {},
   "outputs": [],
   "source": [
    "# dataset = generate_dataset(train_data)\n",
    "# output_file_path = '../data/travel_insurance/travel_insurance.json'\n",
    "# with open(output_file_path, 'w', encoding='utf-8') as f:\n",
    "#     json.dump(dataset, f, ensure_ascii=False, indent=2)"
   ]
  },
  {
   "cell_type": "code",
   "execution_count": 25,
   "metadata": {
    "metadata": {}
   },
   "outputs": [],
   "source": [
    "# dataset = generate_dataset(test_data)\n",
    "# output_file_path = '../data/travel_insurance/travel_insurance_test.json'\n",
    "# with open(output_file_path, 'w', encoding='utf-8') as f:\n",
    "#     json.dump(dataset, f, ensure_ascii=False, indent=2)"
   ]
  },
  {
   "cell_type": "markdown",
   "metadata": {},
   "source": [
    "### Create more label\n"
   ]
  },
  {
   "cell_type": "code",
   "execution_count": 1,
   "metadata": {
    "metadata": {}
   },
   "outputs": [
    {
     "name": "stdout",
     "output_type": "stream",
     "text": [
      "'NoneType' object has no attribute 'cadam32bit_grad_fp32'\n",
      "Train set shape: (1589, 9)\n",
      "Test set shape: (398, 9)\n"
     ]
    },
    {
     "name": "stderr",
     "output_type": "stream",
     "text": [
      "/Users/yuzheyang/anaconda3/envs/torch_env/lib/python3.9/site-packages/bitsandbytes/cextension.py:34: UserWarning: The installed version of bitsandbytes was compiled without GPU support. 8-bit optimizers, 8-bit multiplication, and GPU quantization are unavailable.\n",
      "  warn(\"The installed version of bitsandbytes was compiled without GPU support. \"\n"
     ]
    }
   ],
   "source": [
    "from sklearn.model_selection import train_test_split\n",
    "import pandas as pd\n",
    "from util import OpenAIGPT\n",
    "import pandas as pd\n",
    "import json\n",
    "from concurrent.futures import ThreadPoolExecutor\n",
    "from tqdm import tqdm\n",
    "\n",
    "igpt = OpenAIGPT(keys_path=\"gpt3keys.txt\")\n",
    "data = pd.read_csv('../data/travel_insurance/travel_insurance.csv')\n",
    "train_data, test_data = train_test_split(data, test_size=0.2, random_state=42)\n",
    "print(\"Train set shape:\", train_data.shape)\n",
    "print(\"Test set shape:\", test_data.shape)"
   ]
  },
  {
   "cell_type": "code",
   "execution_count": 3,
   "metadata": {
    "metadata": {}
   },
   "outputs": [],
   "source": [
    "def match_choice(text):\n",
    "    match = re.findall(r'.*?([A-D]+(?:[、, ]+[A-D]+)*)', text)\n",
    "    if match:\n",
    "        last_match = match[-1]\n",
    "        return ''.join(re.split(r'[、, ]+', last_match))\n",
    "    return ''\n",
    "\n",
    "\n",
    "def process_row(row):\n",
    "    try:\n",
    "        row_copy = row.drop(labels=['TravelInsurance'])\n",
    "        prompt = f'''\n",
    "        Write a brief sentence summarizing these details into a coherent profile description.\n",
    "        {row_copy}\n",
    "        '''\n",
    "        res = igpt(prompt)\n",
    "\n",
    "        label = ''\n",
    "\n",
    "        # row: Age,Employment Type,GraduateOrNot,AnnualIncome,FamilyMembers,ChronicDiseases,FrequentFlyer,EverTravelledAbroad\n",
    "        if row['TravelInsurance'] == 0:\n",
    "            prompt_label = f'''\n",
    "            This is the profile of a person who will not buy Travel insurance: {res}\n",
    "            Please select the most appropriate option to judge the willingness to buy the travel insurance: (A. very negative / B. negative). You do not need to provide a reason.\n",
    "            '''\n",
    "            label = igpt(prompt_label)\n",
    "\n",
    "        if row['TravelInsurance'] == 1:\n",
    "            prompt_label = f'''\n",
    "            This is the profile of a person who will buy Travel insurance: {res}\n",
    "            Please select the most appropriate option to judge the willingness to buy the travel insurance: (C. positive / D. very positive). You do not need to provide a reason.\n",
    "            '''\n",
    "            label = igpt(prompt_label)\n",
    "\n",
    "        return {\n",
    "            \"instruction\": \"Determine whether the person will buy Travel insurance, you will output: (A. very negative / B. negative / C. positive / D. very positive)\",\n",
    "            \"input\": res,\n",
    "            \"output\": label,\n",
    "            \"history\": []\n",
    "        }\n",
    "    except Exception as e:\n",
    "        print(f\"Error processing row: {e}\")\n",
    "        return None\n",
    "\n",
    "\n",
    "def generate_dataset(df, max_samples=1000):\n",
    "    global igpt\n",
    "    igpt = OpenAIGPT(model_name='gpt-3.5-turbo', keys_path='gpt3keys.txt')\n",
    "    df_subset = df.head(max_samples)\n",
    "    results = []\n",
    "    with ThreadPoolExecutor(max_workers=10) as executor:\n",
    "        futures = [executor.submit(process_row, row) for _, row in df_subset.iterrows()]\n",
    "        for future in tqdm(futures, total=len(futures), desc=\"Processing rows\"):\n",
    "            result = future.result()\n",
    "            if result:\n",
    "                results.append(result)\n",
    "\n",
    "    return results"
   ]
  },
  {
   "cell_type": "markdown",
   "metadata": {},
   "source": [
    "### test data\n"
   ]
  },
  {
   "cell_type": "code",
   "execution_count": 10,
   "metadata": {},
   "outputs": [
    {
     "name": "stderr",
     "output_type": "stream",
     "text": [
      "Processing rows:   0%|          | 0/100 [00:00<?, ?it/s]"
     ]
    },
    {
     "name": "stderr",
     "output_type": "stream",
     "text": [
      "Processing rows: 100%|██████████| 100/100 [01:23<00:00,  1.20it/s]\n"
     ]
    }
   ],
   "source": [
    "dataset = generate_dataset(test_data, max_samples=100)\n",
    "output_file_path = '../data/travel_insurance_4_label/test.json'\n",
    "with open(output_file_path, 'w', encoding='utf-8') as f:\n",
    "    json.dump(dataset, f, ensure_ascii=False, indent=2)"
   ]
  },
  {
   "cell_type": "markdown",
   "metadata": {},
   "source": [
    "### train data\n"
   ]
  },
  {
   "cell_type": "code",
   "execution_count": 4,
   "metadata": {
    "metadata": {}
   },
   "outputs": [
    {
     "name": "stderr",
     "output_type": "stream",
     "text": [
      "Processing rows: 100%|██████████| 1000/1000 [14:53<00:00,  1.12it/s]\n"
     ]
    }
   ],
   "source": [
    "dataset = generate_dataset(train_data, max_samples=1000)\n",
    "output_file_path = '../data/travel_insurance_4_label/train.json'\n",
    "with open(output_file_path, 'w', encoding='utf-8') as f:\n",
    "    json.dump(dataset, f, ensure_ascii=False, indent=2)"
   ]
  }
 ],
 "metadata": {
  "kernelspec": {
   "display_name": "torch_env",
   "language": "python",
   "name": "python3"
  },
  "language_info": {
   "codemirror_mode": {
    "name": "ipython",
    "version": 3
   },
   "file_extension": ".py",
   "mimetype": "text/x-python",
   "name": "python",
   "nbconvert_exporter": "python",
   "pygments_lexer": "ipython3",
   "version": "3.9.18"
  }
 },
 "nbformat": 4,
 "nbformat_minor": 2
}
