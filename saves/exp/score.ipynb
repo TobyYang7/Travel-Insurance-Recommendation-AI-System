{
 "cells": [
  {
   "cell_type": "code",
   "execution_count": 32,
   "metadata": {
    "metadata": {}
   },
   "outputs": [],
   "source": [
    "import json\n",
    "from sklearn.metrics import accuracy_score, f1_score\n",
    "import re\n",
    "\n",
    "\n",
    "def match_choice(text):\n",
    "    match = re.findall(r'.*?([A-D]+(?:[、, ]+[A-D]+)*)', text)\n",
    "    if match:\n",
    "        last_match = match[-1]\n",
    "        return ''.join(re.split(r'[、, ]+', last_match))\n",
    "    return ''\n",
    "\n",
    "\n",
    "def accuracy(path):\n",
    "    y_true = []\n",
    "    y_pred = []\n",
    "    with open(path, 'r') as file:\n",
    "        for line in file:\n",
    "            data = json.loads(line)\n",
    "            y_true.append(match_choice(data['label']))\n",
    "            y_pred.append(match_choice(data['predict']))\n",
    "    return accuracy_score(y_true, y_pred)\n",
    "\n",
    "\n",
    "def score(path):\n",
    "    y_true = []\n",
    "    y_pred = []\n",
    "    with open(path, 'r') as file:\n",
    "        for line in file:\n",
    "            data = json.loads(line)\n",
    "            y_true.append(match_choice(data['label']))\n",
    "            y_pred.append(match_choice(data['predict']))\n",
    "    return f1_score(y_true, y_pred, average='macro')\n",
    "\n",
    "\n",
    "def out(path):\n",
    "    print(f'acc: {accuracy(path)}')\n",
    "    print(f'f1: {score(path)}')"
   ]
  },
  {
   "cell_type": "code",
   "execution_count": 33,
   "metadata": {},
   "outputs": [
    {
     "name": "stdout",
     "output_type": "stream",
     "text": [
      "acc: 0.3542713567839196\n",
      "f1: 0.26159554730983303\n"
     ]
    }
   ],
   "source": [
    "path = 'InsuranceGPT_v2/travel_insurance_test/generated_predictions.jsonl'\n",
    "out(path)"
   ]
  },
  {
   "cell_type": "code",
   "execution_count": 34,
   "metadata": {},
   "outputs": [
    {
     "name": "stdout",
     "output_type": "stream",
     "text": [
      "acc: 0.3542713567839196\n",
      "f1: 0.26159554730983303\n"
     ]
    }
   ],
   "source": [
    "path2 = 'InsuranceGPT_v3/travel_insurance_test/generated_predictions.jsonl'\n",
    "out(path)"
   ]
  },
  {
   "cell_type": "code",
   "execution_count": 35,
   "metadata": {},
   "outputs": [],
   "source": [
    "import torch\n",
    "torch.cuda.empty_cache()"
   ]
  }
 ],
 "metadata": {
  "kernelspec": {
   "display_name": "torch_env",
   "language": "python",
   "name": "python3"
  },
  "language_info": {
   "codemirror_mode": {
    "name": "ipython",
    "version": 3
   },
   "file_extension": ".py",
   "mimetype": "text/x-python",
   "name": "python",
   "nbconvert_exporter": "python",
   "pygments_lexer": "ipython3",
   "version": "3.9.18"
  }
 },
 "nbformat": 4,
 "nbformat_minor": 2
}
