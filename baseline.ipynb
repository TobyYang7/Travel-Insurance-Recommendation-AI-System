{
 "cells": [
  {
   "cell_type": "code",
   "execution_count": 67,
   "metadata": {},
   "outputs": [],
   "source": [
    "import pandas as pd\n",
    "from sklearn.model_selection import train_test_split\n",
    "from sklearn.preprocessing import LabelEncoder\n",
    "from sklearn.tree import DecisionTreeClassifier\n",
    "from sklearn.metrics import accuracy_score, f1_score, confusion_matrix\n",
    "\n",
    "df = pd.read_csv(\"data/travel_insurance/travel_insurance.csv\")\n",
    "label_encoder = LabelEncoder()\n",
    "categorical_features = ['Employment Type', 'GraduateOrNot', 'FrequentFlyer', 'EverTravelledAbroad']\n",
    "for col in categorical_features:\n",
    "    df[col] = label_encoder.fit_transform(df[col])\n",
    "X = df.drop('TravelInsurance', axis=1)\n",
    "y = df['TravelInsurance']\n",
    "X_train, X_test, y_train, y_test = train_test_split(X, y, test_size=0.2, random_state=42)"
   ]
  },
  {
   "cell_type": "code",
   "execution_count": 68,
   "metadata": {},
   "outputs": [
    {
     "name": "stdout",
     "output_type": "stream",
     "text": [
      "Model: DecisionTreeClassifier()\n",
      "Model accuracy is:  0.8115577889447236\n",
      "Model f1 score is:  0.7126436781609196\n",
      "\n",
      "Model: KNeighborsClassifier()\n",
      "Model accuracy is:  0.8266331658291457\n",
      "Model f1 score is:  0.7112970711297072\n",
      "\n",
      "Model: RandomForestClassifier()\n",
      "Model accuracy is:  0.8140703517587939\n",
      "Model f1 score is:  0.7109375\n",
      "\n",
      "Model: KNeighborsClassifier()\n",
      "Model accuracy is:  0.8266331658291457\n",
      "Model f1 score is:  0.7112970711297072\n",
      "\n",
      "Model: LogisticRegression()\n",
      "Model accuracy is:  0.6457286432160804\n",
      "Model f1 score is:  0.0\n",
      "\n",
      "Model: GaussianNB()\n",
      "Model accuracy is:  0.7688442211055276\n",
      "Model f1 score is:  0.6134453781512605\n",
      "\n"
     ]
    }
   ],
   "source": [
    "from sklearn.tree import DecisionTreeClassifier\n",
    "from sklearn.ensemble import RandomForestClassifier\n",
    "from sklearn.neighbors import KNeighborsClassifier\n",
    "from sklearn.linear_model import LogisticRegression\n",
    "from sklearn.naive_bayes import GaussianNB\n",
    "\n",
    "model = [DecisionTreeClassifier(), KNeighborsClassifier(), RandomForestClassifier(), KNeighborsClassifier(), LogisticRegression(), GaussianNB()]\n",
    "\n",
    "for m in model:\n",
    "    net = m\n",
    "    net.fit(X_train, y_train)\n",
    "    y_pred = net.predict(X_test)\n",
    "\n",
    "    print(\"Model:\", m)\n",
    "    print(\"Model accuracy is: \", accuracy_score(y_test, y_pred))\n",
    "    print(\"Model f1 score is: \", f1_score(y_test, y_pred))\n",
    "    print()\n",
    "    # confusion_matrix(y_test, y_pred)"
   ]
  }
 ],
 "metadata": {
  "language_info": {
   "name": "python"
  }
 },
 "nbformat": 4,
 "nbformat_minor": 2
}
