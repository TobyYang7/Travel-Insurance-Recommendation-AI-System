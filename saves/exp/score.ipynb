{
 "cells": [
  {
   "cell_type": "code",
   "execution_count": 11,
   "metadata": {},
   "outputs": [],
   "source": [
    "import json\n",
    "from sklearn.metrics import accuracy_score, f1_score\n",
    "import re\n",
    "\n",
    "\n",
    "def match_choice(text):\n",
    "    match = re.findall(r'.*?([A-D]+(?:[、, ]+[A-D]+)*)', text)\n",
    "    if match:\n",
    "        last_match = match[-1]\n",
    "        return ''.join(re.split(r'[、, ]+', last_match))\n",
    "    return ''\n",
    "\n",
    "\n",
    "def accuracy(path):\n",
    "    y_true = []\n",
    "    y_pred = []\n",
    "    with open(path, 'r') as file:\n",
    "        for line in file:\n",
    "            data = json.loads(line)\n",
    "            y_true.append(match_choice(data['label']))\n",
    "            y_pred.append(match_choice(data['predict']))\n",
    "    return accuracy_score(y_true, y_pred)\n",
    "\n",
    "\n",
    "def score(path):\n",
    "    y_true = []\n",
    "    y_pred = []\n",
    "    with open(path, 'r') as file:\n",
    "        for line in file:\n",
    "            data = json.loads(line)\n",
    "            y_true.append(match_choice(data['label']))\n",
    "            y_pred.append(match_choice(data['predict']))\n",
    "    return f1_score(y_true, y_pred, average='macro')\n",
    "\n",
    "\n",
    "def out(path):\n",
    "    print(f'acc: {accuracy(path)}')\n",
    "    print(f'f1: {score(path)}')"
   ]
  },
  {
   "cell_type": "code",
   "execution_count": 12,
   "metadata": {},
   "outputs": [
    {
     "name": "stdout",
     "output_type": "stream",
     "text": [
      "acc: 0.6656644618159951\n",
      "f1: 0.13990575287421605\n"
     ]
    }
   ],
   "source": [
    "path = '/home/zhangmin/toby/IBA_Project_24spr/saves/exp/llama3/sentiment_test,travel_insurance_test/generated_predictions.jsonl'\n",
    "out(path)"
   ]
  },
  {
   "cell_type": "code",
   "execution_count": 13,
   "metadata": {},
   "outputs": [
    {
     "name": "stdout",
     "output_type": "stream",
     "text": [
      "acc: 0.8505712567648828\n",
      "f1: 0.8087837006004678\n"
     ]
    }
   ],
   "source": [
    "path = '/home/zhangmin/toby/IBA_Project_24spr/saves/exp/llama3_v5_insuranceQA/sentiment_test,travel_insurance_test/generated_predictions.jsonl'\n",
    "out(path)"
   ]
  },
  {
   "cell_type": "code",
   "execution_count": 14,
   "metadata": {},
   "outputs": [
    {
     "name": "stdout",
     "output_type": "stream",
     "text": [
      "acc: 0.8505712567648828\n",
      "f1: 0.8087837006004678\n"
     ]
    }
   ],
   "source": [
    "path = '/home/zhangmin/toby/IBA_Project_24spr/saves/exp/InsuranceGPT/sentiment_test,travel_insurance_test/generated_predictions.jsonl'\n",
    "out(path)"
   ]
  }
 ],
 "metadata": {
  "language_info": {
   "name": "python"
  }
 },
 "nbformat": 4,
 "nbformat_minor": 2
}
