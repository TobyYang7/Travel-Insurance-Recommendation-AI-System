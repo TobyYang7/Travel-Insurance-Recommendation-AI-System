{
 "cells": [
  {
   "cell_type": "code",
   "execution_count": 42,
   "metadata": {
    "metadata": {}
   },
   "outputs": [],
   "source": [
    "import pandas as pd\n",
    "from sklearn.model_selection import train_test_split\n",
    "import datasets\n",
    "import json\n",
    "import random\n",
    "\n",
    "\n",
    "def format_review(df):\n",
    "    df = df[['text', 'airline_sentiment']].copy()\n",
    "    df.rename(columns={'text': 'input', 'airline_sentiment': 'output'}, inplace=True)\n",
    "    df.loc[:, 'output'] = df['output'].replace({\n",
    "        'negative': 'A. negative',\n",
    "        'neutral': 'B. neutral',\n",
    "        'positive': 'C. positive'\n",
    "    })\n",
    "    df.loc[:, 'instruction'] = 'What is the sentiment of this tweet? Please choose an answer from {A. negative; B. neutral; C. positive}.'\n",
    "    df.loc[:, 'history'] = pd.Series([[] for _ in range(len(df))], index=df.index)\n",
    "    df = df[['instruction', 'input', 'output', 'history']]\n",
    "    return df"
   ]
  },
  {
   "cell_type": "markdown",
   "metadata": {},
   "source": [
    "### Load review data\n"
   ]
  },
  {
   "cell_type": "code",
   "execution_count": 43,
   "metadata": {
    "metadata": {}
   },
   "outputs": [],
   "source": [
    "max_sample = 1000"
   ]
  },
  {
   "cell_type": "code",
   "execution_count": 44,
   "metadata": {
    "metadata": {}
   },
   "outputs": [],
   "source": [
    "csv_file_path = '../data/flight_review/Tweets.csv'\n",
    "df = pd.read_csv(csv_file_path, quotechar='\"', escapechar='\\\\', engine='python', on_bad_lines='skip')\n",
    "train_df, test_df = train_test_split(df, test_size=0.2, random_state=42)\n",
    "\n",
    "\n",
    "train_df = format_review(train_df)[:max_sample]\n",
    "test_df = format_review(test_df)\n",
    "\n",
    "train_json_path = '../data/flight_review/train.json'\n",
    "test_json_path = '../data/flight_review/test.json'\n",
    "train_df.to_json(train_json_path, orient='records', force_ascii=False, lines=False, indent=2)\n",
    "test_df.to_json(test_json_path, orient='records', force_ascii=False, lines=False, indent=2)"
   ]
  },
  {
   "cell_type": "markdown",
   "metadata": {},
   "source": [
    "### Load insurance Q&A data\n"
   ]
  },
  {
   "cell_type": "code",
   "execution_count": 45,
   "metadata": {
    "metadata": {}
   },
   "outputs": [
    {
     "data": {
      "text/plain": [
       "DatasetDict({\n",
       "    train: Dataset({\n",
       "        features: ['咨询', '回复'],\n",
       "        num_rows: 3599\n",
       "    })\n",
       "    validation: Dataset({\n",
       "        features: ['咨询', '回复'],\n",
       "        num_rows: 189\n",
       "    })\n",
       "})"
      ]
     },
     "execution_count": 45,
     "metadata": {},
     "output_type": "execute_result"
    }
   ],
   "source": [
    "insurance_ds = datasets.load_dataset('Ddream-ai/InsuranceCorpus')\n",
    "insurance_ds"
   ]
  },
  {
   "cell_type": "code",
   "execution_count": 46,
   "metadata": {
    "metadata": {}
   },
   "outputs": [],
   "source": [
    "max_sample = 3000"
   ]
  },
  {
   "cell_type": "code",
   "execution_count": 47,
   "metadata": {
    "metadata": {}
   },
   "outputs": [],
   "source": [
    "data_to_save = []\n",
    "for i in range(max_sample):\n",
    "    line = insurance_ds['train'][i]\n",
    "    formatted_line = {\n",
    "        \"instruction\": line['咨询'],\n",
    "        \"input\": \"\",\n",
    "        \"output\": line['回复'],\n",
    "        \"history\": []\n",
    "    }\n",
    "    data_to_save.append(formatted_line)\n",
    "\n",
    "insuranceQA = '../data/InsuranceCorpus.json'\n",
    "with open(insuranceQA, 'w', encoding='utf-8') as f:\n",
    "    json.dump(data_to_save, f, ensure_ascii=False, indent=2)"
   ]
  },
  {
   "cell_type": "markdown",
   "metadata": {},
   "source": [
    "### Shuffle two datasets\n"
   ]
  },
  {
   "cell_type": "code",
   "execution_count": 48,
   "metadata": {
    "metadata": {}
   },
   "outputs": [],
   "source": [
    "with open(train_json_path, 'r', encoding='utf-8') as f:\n",
    "    train_data = json.load(f)\n",
    "\n",
    "with open(insuranceQA, 'r', encoding='utf-8') as f:\n",
    "    insuranceQA_data = json.load(f)\n",
    "\n",
    "combined_data = train_data + insuranceQA_data\n",
    "random.shuffle(combined_data)\n",
    "dataset = pd.DataFrame(combined_data)\n",
    "\n",
    "output_file_path = '../data/QA_sentiment.json'\n",
    "dataset.to_json(output_file_path, orient='records', force_ascii=False, lines=True)"
   ]
  }
 ],
 "metadata": {
  "kernelspec": {
   "display_name": "torch_env",
   "language": "python",
   "name": "python3"
  },
  "language_info": {
   "codemirror_mode": {
    "name": "ipython",
    "version": 3
   },
   "file_extension": ".py",
   "mimetype": "text/x-python",
   "name": "python",
   "nbconvert_exporter": "python",
   "pygments_lexer": "ipython3",
   "version": "3.9.18"
  }
 },
 "nbformat": 4,
 "nbformat_minor": 2
}
