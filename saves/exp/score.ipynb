{
 "cells": [
  {
   "cell_type": "code",
   "execution_count": 1,
   "metadata": {},
   "outputs": [],
   "source": [
    "import json\n",
    "from sklearn.metrics import accuracy_score\n",
    "import re\n",
    "\n",
    "\n",
    "def match_choice(text):\n",
    "    match = re.findall(r'.*?([A-D]+(?:[、, ]+[A-D]+)*)', text)\n",
    "    if match:\n",
    "        last_match = match[-1]\n",
    "        return ''.join(re.split(r'[、, ]+', last_match))\n",
    "    return ''\n",
    "\n",
    "\n",
    "def accuracy(path):\n",
    "    y_true = []\n",
    "    y_pred = []\n",
    "    with open(path, 'r') as file:\n",
    "        for line in file:\n",
    "            data = json.loads(line)\n",
    "            y_true.append(match_choice(data['label']))\n",
    "            y_pred.append(match_choice(data['predict']))\n",
    "    return accuracy_score(y_true, y_pred)"
   ]
  },
  {
   "cell_type": "code",
   "execution_count": 2,
   "metadata": {},
   "outputs": [
    {
     "data": {
      "text/plain": [
       "0.686"
      ]
     },
     "execution_count": 2,
     "metadata": {},
     "output_type": "execute_result"
    }
   ],
   "source": [
    "accuracy('/home/zhangmin/toby/IBA_Project_24spr/saves/exp/Meta-Llama-3-8B-Instruct/sentiment_test/generated_predictions.jsonl')"
   ]
  },
  {
   "cell_type": "code",
   "execution_count": 3,
   "metadata": {},
   "outputs": [
    {
     "data": {
      "text/plain": [
       "0.6080402010050251"
      ]
     },
     "execution_count": 3,
     "metadata": {},
     "output_type": "execute_result"
    }
   ],
   "source": [
    "accuracy('/home/zhangmin/toby/IBA_Project_24spr/saves/exp/Meta-Llama-3-8B-Instruct/travel_insurance_test/generated_predictions.jsonl')"
   ]
  },
  {
   "cell_type": "code",
   "execution_count": 4,
   "metadata": {},
   "outputs": [
    {
     "data": {
      "text/plain": [
       "0.402"
      ]
     },
     "execution_count": 4,
     "metadata": {},
     "output_type": "execute_result"
    }
   ],
   "source": [
    "accuracy('/home/zhangmin/toby/IBA_Project_24spr/saves/exp/Meta-Llama-3-8B-Instruct/fineval/generated_predictions.jsonl')"
   ]
  },
  {
   "cell_type": "code",
   "execution_count": 5,
   "metadata": {},
   "outputs": [
    {
     "data": {
      "text/plain": [
       "0.7386934673366834"
      ]
     },
     "execution_count": 5,
     "metadata": {},
     "output_type": "execute_result"
    }
   ],
   "source": [
    "accuracy('/home/zhangmin/toby/IBA_Project_24spr/saves/exp/llama3_v3_insuranceQA/travel_insurance_test/generated_predictions.jsonl')"
   ]
  },
  {
   "cell_type": "code",
   "execution_count": 6,
   "metadata": {},
   "outputs": [
    {
     "data": {
      "text/plain": [
       "0.872"
      ]
     },
     "execution_count": 6,
     "metadata": {},
     "output_type": "execute_result"
    }
   ],
   "source": [
    "accuracy('/home/zhangmin/toby/IBA_Project_24spr/saves/exp/llama3_v3_insuranceQA/sentiment_test/generated_predictions.jsonl')"
   ]
  },
  {
   "cell_type": "code",
   "execution_count": 7,
   "metadata": {},
   "outputs": [
    {
     "data": {
      "text/plain": [
       "0.8535778713168972"
      ]
     },
     "execution_count": 7,
     "metadata": {},
     "output_type": "execute_result"
    }
   ],
   "source": [
    "accuracy('/home/zhangmin/toby/IBA_Project_24spr/saves/exp/llama3_v3_insuranceQA/sentiment_test,travel_insurance_test/generated_predictions.jsonl')"
   ]
  },
  {
   "cell_type": "code",
   "execution_count": null,
   "metadata": {},
   "outputs": [],
   "source": []
  }
 ],
 "metadata": {
  "language_info": {
   "name": "python"
  }
 },
 "nbformat": 4,
 "nbformat_minor": 2
}
