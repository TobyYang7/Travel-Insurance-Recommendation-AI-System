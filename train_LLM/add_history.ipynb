{
 "cells": [
  {
   "cell_type": "code",
   "execution_count": 61,
   "metadata": {},
   "outputs": [],
   "source": [
    "import pandas as pd\n",
    "from util import OpenAIGPT\n",
    "import pandas as pd\n",
    "import json\n",
    "from concurrent.futures import ThreadPoolExecutor\n",
    "from tqdm import tqdm\n",
    "import random\n",
    "igpt = OpenAIGPT(keys_path=\"gpt3keys.txt\")"
   ]
  },
  {
   "cell_type": "code",
   "execution_count": 62,
   "metadata": {},
   "outputs": [
    {
     "data": {
      "text/plain": [
       "'A 33-year-old graduate working in the government sector with an annual income of $400,000, residing with a family of five, managing one chronic disease, and having no history of frequent flying or international travel.'"
      ]
     },
     "execution_count": 62,
     "metadata": {},
     "output_type": "execute_result"
    }
   ],
   "source": [
    "dataset = '../data/travel_insurance_4_label/train.json'\n",
    "with open(dataset, 'r') as file:\n",
    "    data = json.load(file)\n",
    "\n",
    "idx = random.randint(0, 999)\n",
    "data[idx]['input']"
   ]
  },
  {
   "cell_type": "code",
   "execution_count": 63,
   "metadata": {},
   "outputs": [],
   "source": [
    "# random: 0-999\n",
    "for i in range(len(data)):\n",
    "    idx = random.randint(0, 999)\n",
    "    input_text = f\"{data[idx]['instruction']}: {data[idx]['input']}\"\n",
    "    output_text = data[idx]['output']\n",
    "    data[i]['history'].append([input_text, output_text])\n",
    "\n",
    "    idx = random.randint(0, 999)\n",
    "    input_text = f\"{data[idx]['instruction']}: {data[idx]['input']}\"\n",
    "    output_text = data[idx]['output']\n",
    "    data[i]['history'].append([input_text, output_text])\n",
    "\n",
    "    idx = random.randint(0, 999)\n",
    "    input_text = f\"{data[idx]['instruction']}: {data[idx]['input']}\"\n",
    "    output_text = data[idx]['output']\n",
    "    data[i]['history'].append([input_text, output_text])"
   ]
  },
  {
   "cell_type": "code",
   "execution_count": 64,
   "metadata": {},
   "outputs": [
    {
     "data": {
      "text/plain": [
       "{'instruction': 'Determine whether the person will buy Travel insurance, you will output: (A. very negative / B. negative / C. positive / D. very positive)',\n",
       " 'input': 'A 25-year-old graduate, employed in the private sector or self-employed, with an annual income of 500,000, living with four family members, managing one chronic disease, and having no history of frequent flying or international travel.',\n",
       " 'output': 'D. very positive',\n",
       " 'history': [['Determine whether the person will buy Travel insurance, you will output: (A. very negative / B. negative / C. positive / D. very positive): A 34-year-old graduate employed in the private sector/self-employed, earning an annual income of $1,500,000, with a family of four, no chronic diseases, and a frequent traveler who has traveled abroad.',\n",
       "   'D. very positive'],\n",
       "  ['Determine whether the person will buy Travel insurance, you will output: (A. very negative / B. negative / C. positive / D. very positive): \"28-year-old government employee, a graduate with an annual income of 300,000, living with a family of three, with no chronic diseases, and no history of frequent flying or travel abroad.\"',\n",
       "   'B. negative'],\n",
       "  ['Determine whether the person will buy Travel insurance, you will output: (A. very negative / B. negative / C. positive / D. very positive): A 35-year-old graduate working in the government sector with an annual income of $1,100,000, living with a family of three, with no chronic diseases, and having no history of frequent flying or international travel.',\n",
       "   'D. very positive']]}"
      ]
     },
     "execution_count": 64,
     "metadata": {},
     "output_type": "execute_result"
    }
   ],
   "source": [
    "data[0]"
   ]
  },
  {
   "cell_type": "code",
   "execution_count": 65,
   "metadata": {},
   "outputs": [],
   "source": [
    "output_file_path = '../data/travel_insurance_4_label/history.json'\n",
    "with open(output_file_path, 'w', encoding='utf-8') as f:\n",
    "    json.dump(data, f, ensure_ascii=False, indent=4)"
   ]
  },
  {
   "cell_type": "code",
   "execution_count": null,
   "metadata": {},
   "outputs": [],
   "source": []
  }
 ],
 "metadata": {
  "language_info": {
   "name": "python"
  }
 },
 "nbformat": 4,
 "nbformat_minor": 2
}
