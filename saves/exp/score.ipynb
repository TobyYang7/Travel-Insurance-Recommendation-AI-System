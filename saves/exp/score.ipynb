{
 "cells": [
  {
   "cell_type": "code",
   "execution_count": 4,
   "metadata": {
    "metadata": {}
   },
   "outputs": [],
   "source": [
    "import json\n",
    "from sklearn.metrics import accuracy_score, f1_score\n",
    "import re\n",
    "\n",
    "\n",
    "def match_choice(text):\n",
    "    match = re.findall(r'.*?([A-D]+(?:[、, ]+[A-D]+)*)', text)\n",
    "    if match:\n",
    "        last_match = match[-1]\n",
    "        return ''.join(re.split(r'[、, ]+', last_match))\n",
    "    return ''\n",
    "\n",
    "\n",
    "def accuracy(path):\n",
    "    y_true = []\n",
    "    y_pred = []\n",
    "    with open(path, 'r') as file:\n",
    "        for line in file:\n",
    "            data = json.loads(line)\n",
    "            y_true.append(match_choice(data['label']))\n",
    "            y_pred.append(match_choice(data['predict']))\n",
    "    return accuracy_score(y_true, y_pred)\n",
    "\n",
    "\n",
    "def score(path):\n",
    "    y_true = []\n",
    "    y_pred = []\n",
    "    with open(path, 'r') as file:\n",
    "        for line in file:\n",
    "            data = json.loads(line)\n",
    "            y_true.append(match_choice(data['label']))\n",
    "            y_pred.append(match_choice(data['predict']))\n",
    "    return f1_score(y_true, y_pred, average='macro')\n",
    "\n",
    "\n",
    "def out(model_name, dataset):\n",
    "    path = f'{model_name}/{dataset}/generated_predictions.jsonl'\n",
    "    print(f'-----{model_name}: {dataset}')\n",
    "    print(f'acc: {round(accuracy(path), 3)}      f1: {round(score(path), 3)}')"
   ]
  },
  {
   "cell_type": "markdown",
   "metadata": {},
   "source": [
    "### igpt_v0: insuranceQA + sentiment + travel_insurance\n",
    "\n",
    "### igpt_v1: insuranceQA\n"
   ]
  },
  {
   "cell_type": "code",
   "execution_count": 5,
   "metadata": {},
   "outputs": [
    {
     "name": "stdout",
     "output_type": "stream",
     "text": [
      "-----igpt_v1_rlhf_travel_insurance: travel_insurance_test\n",
      "acc: 0.751      f1: 0.705\n",
      "-----igpt_v1_rlhf_travel_insurance: travel_insurance_4_label_test\n",
      "acc: 0.63      f1: 0.367\n",
      "-----igpt_v1_rlhf_travel_insurance: sentiment_test\n",
      "acc: 0.806      f1: 0.726\n",
      "\n",
      "-----igpt_v3_correct: travel_insurance_test\n",
      "acc: 0.807      f1: 0.757\n",
      "-----igpt_v3_correct: travel_insurance_4_label_test\n",
      "acc: 0.05      f1: 0.024\n",
      "-----igpt_v3_correct: sentiment_test\n",
      "acc: 0.857      f1: 0.806\n",
      "\n",
      "acc: 0.857      f1: 0.806\n",
      "\n"
     ]
    }
   ],
   "source": [
    "data = ['travel_insurance_test', 'travel_insurance_4_label_test', 'sentiment_test']\n",
    "model = ['igpt_v1_rlhf_travel_insurance', 'igpt_v3_correct']\n",
    "for m in model:\n",
    "    for d in data:\n",
    "        out(m, d)\n",
    "    print()"
   ]
  },
  {
   "cell_type": "code",
   "execution_count": 6,
   "metadata": {},
   "outputs": [
    {
     "name": "stdout",
     "output_type": "stream",
     "text": [
      "-----GPT-3.5: travel_insurance_test\n",
      "acc: 0.58      f1: 0.231\n",
      "-----GPT-3.5: travel_insurance_4_label_test\n"
     ]
    },
    {
     "name": "stdout",
     "output_type": "stream",
     "text": [
      "acc: 0.4      f1: 0.184\n",
      "-----GPT-3.5: sentiment_test\n",
      "acc: 0.73      f1: 0.424\n",
      "\n",
      "-----llama3: travel_insurance_test\n",
      "acc: 0.608      f1: 0.205\n",
      "-----llama3: travel_insurance_4_label_test\n",
      "acc: 0.09      f1: 0.069\n",
      "-----llama3: sentiment_test\n",
      "acc: 0.67      f1: 0.528\n",
      "\n"
     ]
    }
   ],
   "source": [
    "data = ['travel_insurance_test', 'travel_insurance_4_label_test', 'sentiment_test']\n",
    "model = ['GPT-3.5', 'llama3']\n",
    "for m in model:\n",
    "    for d in data:\n",
    "        out(m, d)\n",
    "    print()"
   ]
  },
  {
   "cell_type": "code",
   "execution_count": null,
   "metadata": {},
   "outputs": [],
   "source": []
  }
 ],
 "metadata": {
  "kernelspec": {
   "display_name": "torch_env",
   "language": "python",
   "name": "python3"
  },
  "language_info": {
   "codemirror_mode": {
    "name": "ipython",
    "version": 3
   },
   "file_extension": ".py",
   "mimetype": "text/x-python",
   "name": "python",
   "nbconvert_exporter": "python",
   "pygments_lexer": "ipython3",
   "version": "3.9.18"
  }
 },
 "nbformat": 4,
 "nbformat_minor": 2
}
